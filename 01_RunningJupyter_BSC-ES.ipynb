{
 "cells": [
  {
   "cell_type": "markdown",
   "metadata": {
    "slideshow": {
     "slide_type": "slide"
    }
   },
   "source": [
    "# Running Jupyter at ES infrastructure\n"
   ]
  },
  {
   "cell_type": "code",
   "execution_count": 9,
   "metadata": {
    "scrolled": true,
    "slideshow": {
     "slide_type": "fragment"
    }
   },
   "outputs": [
    {
     "name": "stdout",
     "output_type": "stream",
     "text": [
      " _______________________________________\r\n",
      "< open the terminal in your workstation >\r\n",
      " ---------------------------------------\r\n",
      "        \\   ^__^\r\n",
      "         \\  (oo)\\_______\r\n",
      "            (__)\\       )\\/\\\r\n",
      "                ||----w |\r\n",
      "                ||     ||\r\n"
     ]
    }
   ],
   "source": [
    "!cowsay open the terminal in your workstation"
   ]
  },
  {
   "cell_type": "markdown",
   "metadata": {
    "slideshow": {
     "slide_type": "slide"
    }
   },
   "source": [
    "# SSH to your workstation\n",
    "\n",
    "```shell\n",
    "$ ssh -L 8888:localhost:8888 bscearthXXX\n",
    "```\n",
    "\n",
    "The `-L 8888:localhost:8888` instructs `ssh`: \n",
    " 1. to forward (i.e. *tunnel*) your laptop TCP port # 8888 \n",
    " 2. to your workstation's local TCP port # 8888 (`localhost:8888`). **This will be important later**\n",
    "\n"
   ]
  },
  {
   "cell_type": "markdown",
   "metadata": {
    "slideshow": {
     "slide_type": "slide"
    }
   },
   "source": [
    "# Load the module\n",
    "\n",
    "```shell \n",
    "user@bscearthXXX:~> module load IPython/6.4.0-foss-2015a-Python-3.7.3 ```"
   ]
  },
  {
   "cell_type": "markdown",
   "metadata": {
    "slideshow": {
     "slide_type": "fragment"
    }
   },
   "source": [
    "If you plan to use other related modules or libraries in your Jupyter Notebook or IPython Console, you need to load them. "
   ]
  },
  {
   "cell_type": "markdown",
   "metadata": {
    "slideshow": {
     "slide_type": "fragment"
    }
   },
   "source": [
    "For example Pandas and/or Matplotlib\n",
    " - `module load pandas-compat/0.1.1-foss-2015a-Python-3.7.3`\n",
    " - `module matplotlib/3.1.1-foss-2015a-Python-3.7.3`"
   ]
  },
  {
   "cell_type": "markdown",
   "metadata": {
    "slideshow": {
     "slide_type": "fragment"
    }
   },
   "source": [
    "Or including different kernels like R\n",
    " - `module load R*****************` # (**we'll back this later**)"
   ]
  },
  {
   "cell_type": "markdown",
   "metadata": {
    "slideshow": {
     "slide_type": "slide"
    }
   },
   "source": [
    "# Start the IPython console\n",
    "\n",
    "\n",
    "```shell\n",
    "user@bscearthXXX:~> ipython\n",
    "Python 3.7.3 (default, Jun 28 2019, 15:47:16) \n",
    "Type 'copyright', 'credits' or 'license' for more information\n",
    "IPython 6.4.0 -- An enhanced Interactive Python. Type '?' for help.\n",
    "\n",
    "In [1]: \n",
    "\n",
    "```"
   ]
  },
  {
   "cell_type": "markdown",
   "metadata": {
    "slideshow": {
     "slide_type": "slide"
    }
   },
   "source": [
    "# Start the Jupyter Notebook App \n",
    "\n",
    "```shell\n",
    "user@bscearthXXX:~> jupyter notebook\n",
    "```"
   ]
  },
  {
   "cell_type": "markdown",
   "metadata": {
    "slideshow": {
     "slide_type": "fragment"
    }
   },
   "source": [
    "Wait ... but this command will open automatically the browser ... and this OK if you are sitting in front of your workstation. \n",
    "\n",
    "But if you are accessing remotely to your workstation, then you need to use the browser on your laptop. "
   ]
  },
  {
   "cell_type": "markdown",
   "metadata": {
    "slideshow": {
     "slide_type": "fragment"
    }
   },
   "source": [
    "The X can be tunneled/forwarded by SSH but the network's high latency makes this user experience a *pain in the a**!!!*"
   ]
  },
  {
   "cell_type": "markdown",
   "metadata": {
    "slideshow": {
     "slide_type": "fragment"
    }
   },
   "source": [
    "Do you remenber your *forwarded* port on the SSH connection slide? Here that is where it become useful: `-L 8888:localhost:8888`"
   ]
  },
  {
   "cell_type": "markdown",
   "metadata": {
    "slideshow": {
     "slide_type": "slide"
    }
   },
   "source": [
    "# Start the Jupyter Notebook App: no browser\n",
    "\n",
    "First, tell Jupyter Notebook App don't launch browser automatically:\n",
    "```shell\n",
    "user@bscearthXXX:~> jupyter notebook --no-browser\n",
    "[I 20:04:07.659 NotebookApp] Serving notebooks from local directory: /home/Earth/user\n",
    "[I 20:04:07.659 NotebookApp] 0 active kernels\n",
    "[I 20:04:07.659 NotebookApp] The Jupyter Notebook is running at:\n",
    "[I 20:04:07.659 NotebookApp] http://localhost:8888/?token=05f7f9704aea3a222bafef8bdb4d6bfe1ab0618af4d7f420\n",
    "[I 20:04:07.659 NotebookApp] Use Control-C to stop this server and shut down all kernels (twice to skip confirmation).\n",
    "[C 20:04:07.659 NotebookApp] \n",
    "    \n",
    "    Copy/paste this URL into your browser when you connect for the first time,\n",
    "    to login with a token:\n",
    "        http://localhost:8888/?token=05f7f9704aea3a222bafef8bdb4d6bfe1ab0618af4d7f420\n",
    "\n",
    "```\n",
    "\n",
    "Take special attention to the link been reported by the Jypyter Notebook App. \n",
    "\n"
   ]
  },
  {
   "cell_type": "markdown",
   "metadata": {},
   "source": [
    "# List running Jupyter Notebook Apps\n",
    "\n",
    "You can recover the list of running notebooks and their connection links by the command:\n",
    "\n",
    "```shell\n",
    "user@bscearthXXX:~> jupyter notebook list\n",
    "Currently running servers:\n",
    "http://localhost:8888/?token=05f7f9704aea3a222bafef8bdb4d6bfe1ab0618af4d7f420 :: /home/Earth/user\n",
    "```"
   ]
  }
 ],
 "metadata": {
  "celltoolbar": "Slideshow",
  "kernelspec": {
   "display_name": "Python 3",
   "language": "python",
   "name": "python3"
  },
  "language_info": {
   "codemirror_mode": {
    "name": "ipython",
    "version": 3
   },
   "file_extension": ".py",
   "mimetype": "text/x-python",
   "name": "python",
   "nbconvert_exporter": "python",
   "pygments_lexer": "ipython3",
   "version": "3.7.3"
  }
 },
 "nbformat": 4,
 "nbformat_minor": 2
}
